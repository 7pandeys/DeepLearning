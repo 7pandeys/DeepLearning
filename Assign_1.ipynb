{
 "cells": [
  {
   "cell_type": "code",
   "execution_count": 1,
   "id": "0d02aa80",
   "metadata": {},
   "outputs": [],
   "source": [
    "import tensorflow as tf\n",
    "from tensorflow import keras\n",
    "from tensorflow.keras import layers\n",
    "import numpy as np"
   ]
  },
  {
   "cell_type": "code",
   "execution_count": 2,
   "id": "417eb507",
   "metadata": {},
   "outputs": [],
   "source": [
    "def house_model(y_new):\n",
    "    xs = np.array([1, 2, 3, 4, 5, 6, 8, 10, 11], dtype=float)\n",
    "    ys = np.array([1, 3, 5, 7, 9, 11, 15, 19, 21], dtype=float)\n",
    "    model = tf.keras.Sequential([keras.layers.Dense(units=1, input_shape=[1])])# Your Code Here#\n",
    "    model.compile(optimizer='sgd', loss='mean_squared_error')\n",
    "    model.fit(xs, ys, epochs=300)\n",
    "    return model.predict(y_new)[0]"
   ]
  },
  {
   "cell_type": "code",
   "execution_count": 12,
   "id": "a77d4cf7",
   "metadata": {},
   "outputs": [
    {
     "name": "stdout",
     "output_type": "stream",
     "text": [
      "Epoch 1/10\n",
      "1/1 [==============================] - 0s 451ms/step - loss: 27.0851\n",
      "Epoch 2/10\n",
      "1/1 [==============================] - 0s 17ms/step - loss: 0.9147\n",
      "Epoch 3/10\n",
      "1/1 [==============================] - 0s 5ms/step - loss: 0.3260\n",
      "Epoch 4/10\n",
      "1/1 [==============================] - 0s 4ms/step - loss: 0.3097\n",
      "Epoch 5/10\n",
      "1/1 [==============================] - 0s 6ms/step - loss: 0.3063\n",
      "Epoch 6/10\n",
      "1/1 [==============================] - 0s 3ms/step - loss: 0.3031\n",
      "Epoch 7/10\n",
      "1/1 [==============================] - 0s 4ms/step - loss: 0.3000\n",
      "Epoch 8/10\n",
      "1/1 [==============================] - 0s 995us/step - loss: 0.2969\n",
      "Epoch 9/10\n",
      "1/1 [==============================] - 0s 6ms/step - loss: 0.2939\n",
      "Epoch 10/10\n",
      "1/1 [==============================] - 0s 4ms/step - loss: 0.2909\n"
     ]
    },
    {
     "data": {
      "text/plain": [
       "array([18.645166], dtype=float32)"
      ]
     },
     "execution_count": 12,
     "metadata": {},
     "output_type": "execute_result"
    }
   ],
   "source": [
    "def input():\n",
    "    xs = np.array([1, 2, 3, 4, 5, 6, 8, 10, 11], dtype=float)\n",
    "    ys = np.array([1, 3, 5, 7, 9, 11, 15, 19, 21], dtype=float)\n",
    "    return xs, ys\n",
    "def training(optimizer='sgd', loss='mean_squared_error', units = 1, shape=1, epoch=100):\n",
    "    model = tf.keras.Sequential([keras.layers.Dense(units=units, input_shape=[shape])])# Your Code Here#    \n",
    "    model.compile(optimizer=optimizer, loss=loss)  \n",
    "    model.fit(input()[0],input()[1], epochs=epoch)\n",
    "    return model\n",
    "m1 = training(optimizer='sgd', loss='mean_squared_error', units = 1, shape=1, epoch=10)\n",
    "# def predict(model=m1, y_new):\n",
    "#     return model.predict(y_new)[0]"
   ]
  },
  {
   "cell_type": "code",
   "execution_count": 25,
   "id": "92377362",
   "metadata": {},
   "outputs": [
    {
     "name": "stdout",
     "output_type": "stream",
     "text": [
      "Input : 10 ;Output : (1, 1)\n",
      "Input : 8 ;Output : (1, 1)\n",
      "Input : 6 ;Output : (1, 1)\n",
      "Input : 4 ;Output : (1, 1)\n"
     ]
    }
   ],
   "source": [
    "for i in range(10,2,-2):\n",
    "    out = m1.predict([i])\n",
    "    print(f'Input : {i} ;Output : {(out.shape)}')"
   ]
  },
  {
   "cell_type": "code",
   "execution_count": 18,
   "id": "654ac7ac",
   "metadata": {},
   "outputs": [],
   "source": [
    "s= [[18.645166]]"
   ]
  },
  {
   "cell_type": "code",
   "execution_count": 19,
   "id": "fe7d867a",
   "metadata": {},
   "outputs": [
    {
     "data": {
      "text/plain": [
       "[[18.645166]]"
      ]
     },
     "execution_count": 19,
     "metadata": {},
     "output_type": "execute_result"
    }
   ],
   "source": [
    "s"
   ]
  },
  {
   "cell_type": "code",
   "execution_count": 20,
   "id": "36d38306",
   "metadata": {},
   "outputs": [
    {
     "data": {
      "text/plain": [
       "list"
      ]
     },
     "execution_count": 20,
     "metadata": {},
     "output_type": "execute_result"
    }
   ],
   "source": [
    "type(s)"
   ]
  },
  {
   "cell_type": "code",
   "execution_count": 21,
   "id": "81ae4bf3",
   "metadata": {},
   "outputs": [
    {
     "data": {
      "text/plain": [
       "[18.645166]"
      ]
     },
     "execution_count": 21,
     "metadata": {},
     "output_type": "execute_result"
    }
   ],
   "source": [
    "s[0]"
   ]
  },
  {
   "cell_type": "code",
   "execution_count": 30,
   "id": "d2f7b06b",
   "metadata": {},
   "outputs": [],
   "source": [
    "s= np.array([12])"
   ]
  },
  {
   "cell_type": "code",
   "execution_count": 31,
   "id": "f7c39762",
   "metadata": {},
   "outputs": [
    {
     "ename": "TypeError",
     "evalue": "'tuple' object is not callable",
     "output_type": "error",
     "traceback": [
      "\u001b[1;31m---------------------------------------------------------------------------\u001b[0m",
      "\u001b[1;31mTypeError\u001b[0m                                 Traceback (most recent call last)",
      "\u001b[1;32m~\\AppData\\Local\\Temp/ipykernel_8696/2852350484.py\u001b[0m in \u001b[0;36m<module>\u001b[1;34m\u001b[0m\n\u001b[1;32m----> 1\u001b[1;33m \u001b[0ms\u001b[0m\u001b[1;33m.\u001b[0m\u001b[0mshape\u001b[0m\u001b[1;33m(\u001b[0m\u001b[1;33m)\u001b[0m\u001b[1;33m\u001b[0m\u001b[1;33m\u001b[0m\u001b[0m\n\u001b[0m",
      "\u001b[1;31mTypeError\u001b[0m: 'tuple' object is not callable"
     ]
    }
   ],
   "source": [
    "s.shape()"
   ]
  },
  {
   "cell_type": "code",
   "execution_count": 32,
   "id": "a82d7bde",
   "metadata": {},
   "outputs": [
    {
     "data": {
      "text/plain": [
       "numpy.ndarray"
      ]
     },
     "execution_count": 32,
     "metadata": {},
     "output_type": "execute_result"
    }
   ],
   "source": [
    "type(s)"
   ]
  },
  {
   "cell_type": "code",
   "execution_count": 33,
   "id": "d20da1f4",
   "metadata": {},
   "outputs": [
    {
     "data": {
      "text/plain": [
       "array([12])"
      ]
     },
     "execution_count": 33,
     "metadata": {},
     "output_type": "execute_result"
    }
   ],
   "source": [
    "s"
   ]
  },
  {
   "cell_type": "code",
   "execution_count": null,
   "id": "6f4efe9a",
   "metadata": {},
   "outputs": [],
   "source": []
  }
 ],
 "metadata": {
  "kernelspec": {
   "display_name": "Python 3 (ipykernel)",
   "language": "python",
   "name": "python3"
  },
  "language_info": {
   "codemirror_mode": {
    "name": "ipython",
    "version": 3
   },
   "file_extension": ".py",
   "mimetype": "text/x-python",
   "name": "python",
   "nbconvert_exporter": "python",
   "pygments_lexer": "ipython3",
   "version": "3.9.6"
  }
 },
 "nbformat": 4,
 "nbformat_minor": 5
}
